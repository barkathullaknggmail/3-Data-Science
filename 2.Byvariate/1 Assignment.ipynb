{
 "cells": [
  {
   "cell_type": "code",
   "execution_count": 1,
   "id": "501d3f5c-8918-4b1f-8464-e6ff6d5128d7",
   "metadata": {},
   "outputs": [],
   "source": [
    "# from Univariate import Univariate\n",
    "import pandas as pd\n",
    "import numpy as np"
   ]
  },
  {
   "cell_type": "code",
   "execution_count": 3,
   "id": "02ae0930-cfb1-441e-8f94-a245d8cfcf4a",
   "metadata": {},
   "outputs": [
    {
     "data": {
      "text/html": [
       "<div>\n",
       "<style scoped>\n",
       "    .dataframe tbody tr th:only-of-type {\n",
       "        vertical-align: middle;\n",
       "    }\n",
       "\n",
       "    .dataframe tbody tr th {\n",
       "        vertical-align: top;\n",
       "    }\n",
       "\n",
       "    .dataframe thead th {\n",
       "        text-align: right;\n",
       "    }\n",
       "</style>\n",
       "<table border=\"1\" class=\"dataframe\">\n",
       "  <thead>\n",
       "    <tr style=\"text-align: right;\">\n",
       "      <th></th>\n",
       "      <th>sl_no</th>\n",
       "      <th>gender</th>\n",
       "      <th>ssc_p</th>\n",
       "      <th>ssc_b</th>\n",
       "      <th>hsc_p</th>\n",
       "      <th>hsc_b</th>\n",
       "      <th>hsc_s</th>\n",
       "      <th>degree_p</th>\n",
       "      <th>degree_t</th>\n",
       "      <th>workex</th>\n",
       "      <th>etest_p</th>\n",
       "      <th>specialisation</th>\n",
       "      <th>mba_p</th>\n",
       "      <th>status</th>\n",
       "      <th>salary</th>\n",
       "    </tr>\n",
       "  </thead>\n",
       "  <tbody>\n",
       "    <tr>\n",
       "      <th>0</th>\n",
       "      <td>1</td>\n",
       "      <td>M</td>\n",
       "      <td>67.00</td>\n",
       "      <td>Others</td>\n",
       "      <td>91.00</td>\n",
       "      <td>Others</td>\n",
       "      <td>Commerce</td>\n",
       "      <td>58.00</td>\n",
       "      <td>Sci&amp;Tech</td>\n",
       "      <td>No</td>\n",
       "      <td>55.0</td>\n",
       "      <td>Mkt&amp;HR</td>\n",
       "      <td>58.80</td>\n",
       "      <td>Placed</td>\n",
       "      <td>270000.0</td>\n",
       "    </tr>\n",
       "    <tr>\n",
       "      <th>1</th>\n",
       "      <td>2</td>\n",
       "      <td>M</td>\n",
       "      <td>79.33</td>\n",
       "      <td>Central</td>\n",
       "      <td>78.33</td>\n",
       "      <td>Others</td>\n",
       "      <td>Science</td>\n",
       "      <td>77.48</td>\n",
       "      <td>Sci&amp;Tech</td>\n",
       "      <td>Yes</td>\n",
       "      <td>86.5</td>\n",
       "      <td>Mkt&amp;Fin</td>\n",
       "      <td>66.28</td>\n",
       "      <td>Placed</td>\n",
       "      <td>200000.0</td>\n",
       "    </tr>\n",
       "    <tr>\n",
       "      <th>2</th>\n",
       "      <td>3</td>\n",
       "      <td>M</td>\n",
       "      <td>65.00</td>\n",
       "      <td>Central</td>\n",
       "      <td>68.00</td>\n",
       "      <td>Central</td>\n",
       "      <td>Arts</td>\n",
       "      <td>64.00</td>\n",
       "      <td>Comm&amp;Mgmt</td>\n",
       "      <td>No</td>\n",
       "      <td>75.0</td>\n",
       "      <td>Mkt&amp;Fin</td>\n",
       "      <td>57.80</td>\n",
       "      <td>Placed</td>\n",
       "      <td>250000.0</td>\n",
       "    </tr>\n",
       "    <tr>\n",
       "      <th>3</th>\n",
       "      <td>4</td>\n",
       "      <td>M</td>\n",
       "      <td>56.00</td>\n",
       "      <td>Central</td>\n",
       "      <td>52.00</td>\n",
       "      <td>Central</td>\n",
       "      <td>Science</td>\n",
       "      <td>52.00</td>\n",
       "      <td>Sci&amp;Tech</td>\n",
       "      <td>No</td>\n",
       "      <td>66.0</td>\n",
       "      <td>Mkt&amp;HR</td>\n",
       "      <td>59.43</td>\n",
       "      <td>Not Placed</td>\n",
       "      <td>NaN</td>\n",
       "    </tr>\n",
       "    <tr>\n",
       "      <th>4</th>\n",
       "      <td>5</td>\n",
       "      <td>M</td>\n",
       "      <td>85.80</td>\n",
       "      <td>Central</td>\n",
       "      <td>73.60</td>\n",
       "      <td>Central</td>\n",
       "      <td>Commerce</td>\n",
       "      <td>73.30</td>\n",
       "      <td>Comm&amp;Mgmt</td>\n",
       "      <td>No</td>\n",
       "      <td>96.8</td>\n",
       "      <td>Mkt&amp;Fin</td>\n",
       "      <td>55.50</td>\n",
       "      <td>Placed</td>\n",
       "      <td>425000.0</td>\n",
       "    </tr>\n",
       "    <tr>\n",
       "      <th>...</th>\n",
       "      <td>...</td>\n",
       "      <td>...</td>\n",
       "      <td>...</td>\n",
       "      <td>...</td>\n",
       "      <td>...</td>\n",
       "      <td>...</td>\n",
       "      <td>...</td>\n",
       "      <td>...</td>\n",
       "      <td>...</td>\n",
       "      <td>...</td>\n",
       "      <td>...</td>\n",
       "      <td>...</td>\n",
       "      <td>...</td>\n",
       "      <td>...</td>\n",
       "      <td>...</td>\n",
       "    </tr>\n",
       "    <tr>\n",
       "      <th>210</th>\n",
       "      <td>211</td>\n",
       "      <td>M</td>\n",
       "      <td>80.60</td>\n",
       "      <td>Others</td>\n",
       "      <td>82.00</td>\n",
       "      <td>Others</td>\n",
       "      <td>Commerce</td>\n",
       "      <td>77.60</td>\n",
       "      <td>Comm&amp;Mgmt</td>\n",
       "      <td>No</td>\n",
       "      <td>91.0</td>\n",
       "      <td>Mkt&amp;Fin</td>\n",
       "      <td>74.49</td>\n",
       "      <td>Placed</td>\n",
       "      <td>400000.0</td>\n",
       "    </tr>\n",
       "    <tr>\n",
       "      <th>211</th>\n",
       "      <td>212</td>\n",
       "      <td>M</td>\n",
       "      <td>58.00</td>\n",
       "      <td>Others</td>\n",
       "      <td>60.00</td>\n",
       "      <td>Others</td>\n",
       "      <td>Science</td>\n",
       "      <td>72.00</td>\n",
       "      <td>Sci&amp;Tech</td>\n",
       "      <td>No</td>\n",
       "      <td>74.0</td>\n",
       "      <td>Mkt&amp;Fin</td>\n",
       "      <td>53.62</td>\n",
       "      <td>Placed</td>\n",
       "      <td>275000.0</td>\n",
       "    </tr>\n",
       "    <tr>\n",
       "      <th>212</th>\n",
       "      <td>213</td>\n",
       "      <td>M</td>\n",
       "      <td>67.00</td>\n",
       "      <td>Others</td>\n",
       "      <td>67.00</td>\n",
       "      <td>Others</td>\n",
       "      <td>Commerce</td>\n",
       "      <td>73.00</td>\n",
       "      <td>Comm&amp;Mgmt</td>\n",
       "      <td>Yes</td>\n",
       "      <td>59.0</td>\n",
       "      <td>Mkt&amp;Fin</td>\n",
       "      <td>69.72</td>\n",
       "      <td>Placed</td>\n",
       "      <td>295000.0</td>\n",
       "    </tr>\n",
       "    <tr>\n",
       "      <th>213</th>\n",
       "      <td>214</td>\n",
       "      <td>F</td>\n",
       "      <td>74.00</td>\n",
       "      <td>Others</td>\n",
       "      <td>66.00</td>\n",
       "      <td>Others</td>\n",
       "      <td>Commerce</td>\n",
       "      <td>58.00</td>\n",
       "      <td>Comm&amp;Mgmt</td>\n",
       "      <td>No</td>\n",
       "      <td>70.0</td>\n",
       "      <td>Mkt&amp;HR</td>\n",
       "      <td>60.23</td>\n",
       "      <td>Placed</td>\n",
       "      <td>204000.0</td>\n",
       "    </tr>\n",
       "    <tr>\n",
       "      <th>214</th>\n",
       "      <td>215</td>\n",
       "      <td>M</td>\n",
       "      <td>62.00</td>\n",
       "      <td>Central</td>\n",
       "      <td>58.00</td>\n",
       "      <td>Others</td>\n",
       "      <td>Science</td>\n",
       "      <td>53.00</td>\n",
       "      <td>Comm&amp;Mgmt</td>\n",
       "      <td>No</td>\n",
       "      <td>89.0</td>\n",
       "      <td>Mkt&amp;HR</td>\n",
       "      <td>60.22</td>\n",
       "      <td>Not Placed</td>\n",
       "      <td>NaN</td>\n",
       "    </tr>\n",
       "  </tbody>\n",
       "</table>\n",
       "<p>215 rows × 15 columns</p>\n",
       "</div>"
      ],
      "text/plain": [
       "     sl_no gender  ssc_p    ssc_b  hsc_p    hsc_b     hsc_s  degree_p  \\\n",
       "0        1      M  67.00   Others  91.00   Others  Commerce     58.00   \n",
       "1        2      M  79.33  Central  78.33   Others   Science     77.48   \n",
       "2        3      M  65.00  Central  68.00  Central      Arts     64.00   \n",
       "3        4      M  56.00  Central  52.00  Central   Science     52.00   \n",
       "4        5      M  85.80  Central  73.60  Central  Commerce     73.30   \n",
       "..     ...    ...    ...      ...    ...      ...       ...       ...   \n",
       "210    211      M  80.60   Others  82.00   Others  Commerce     77.60   \n",
       "211    212      M  58.00   Others  60.00   Others   Science     72.00   \n",
       "212    213      M  67.00   Others  67.00   Others  Commerce     73.00   \n",
       "213    214      F  74.00   Others  66.00   Others  Commerce     58.00   \n",
       "214    215      M  62.00  Central  58.00   Others   Science     53.00   \n",
       "\n",
       "      degree_t workex  etest_p specialisation  mba_p      status    salary  \n",
       "0     Sci&Tech     No     55.0         Mkt&HR  58.80      Placed  270000.0  \n",
       "1     Sci&Tech    Yes     86.5        Mkt&Fin  66.28      Placed  200000.0  \n",
       "2    Comm&Mgmt     No     75.0        Mkt&Fin  57.80      Placed  250000.0  \n",
       "3     Sci&Tech     No     66.0         Mkt&HR  59.43  Not Placed       NaN  \n",
       "4    Comm&Mgmt     No     96.8        Mkt&Fin  55.50      Placed  425000.0  \n",
       "..         ...    ...      ...            ...    ...         ...       ...  \n",
       "210  Comm&Mgmt     No     91.0        Mkt&Fin  74.49      Placed  400000.0  \n",
       "211   Sci&Tech     No     74.0        Mkt&Fin  53.62      Placed  275000.0  \n",
       "212  Comm&Mgmt    Yes     59.0        Mkt&Fin  69.72      Placed  295000.0  \n",
       "213  Comm&Mgmt     No     70.0         Mkt&HR  60.23      Placed  204000.0  \n",
       "214  Comm&Mgmt     No     89.0         Mkt&HR  60.22  Not Placed       NaN  \n",
       "\n",
       "[215 rows x 15 columns]"
      ]
     },
     "execution_count": 3,
     "metadata": {},
     "output_type": "execute_result"
    }
   ],
   "source": [
    "dataset=pd.read_csv(\"Placement_Data_Full_Class.csv\")\n",
    "dataset"
   ]
  },
  {
   "cell_type": "code",
   "execution_count": 5,
   "id": "b4a97f22-5f6b-40b7-b3f9-a139638c30bd",
   "metadata": {},
   "outputs": [
    {
     "data": {
      "text/html": [
       "<div>\n",
       "<style scoped>\n",
       "    .dataframe tbody tr th:only-of-type {\n",
       "        vertical-align: middle;\n",
       "    }\n",
       "\n",
       "    .dataframe tbody tr th {\n",
       "        vertical-align: top;\n",
       "    }\n",
       "\n",
       "    .dataframe thead th {\n",
       "        text-align: right;\n",
       "    }\n",
       "</style>\n",
       "<table border=\"1\" class=\"dataframe\">\n",
       "  <thead>\n",
       "    <tr style=\"text-align: right;\">\n",
       "      <th></th>\n",
       "      <th>sl_no</th>\n",
       "      <th>gender</th>\n",
       "      <th>ssc_p</th>\n",
       "      <th>ssc_b</th>\n",
       "      <th>hsc_p</th>\n",
       "      <th>hsc_b</th>\n",
       "      <th>hsc_s</th>\n",
       "      <th>degree_p</th>\n",
       "      <th>degree_t</th>\n",
       "      <th>workex</th>\n",
       "      <th>etest_p</th>\n",
       "      <th>specialisation</th>\n",
       "      <th>mba_p</th>\n",
       "      <th>status</th>\n",
       "      <th>salary</th>\n",
       "    </tr>\n",
       "  </thead>\n",
       "  <tbody>\n",
       "    <tr>\n",
       "      <th>0</th>\n",
       "      <td>False</td>\n",
       "      <td>False</td>\n",
       "      <td>False</td>\n",
       "      <td>False</td>\n",
       "      <td>False</td>\n",
       "      <td>False</td>\n",
       "      <td>False</td>\n",
       "      <td>False</td>\n",
       "      <td>False</td>\n",
       "      <td>False</td>\n",
       "      <td>False</td>\n",
       "      <td>False</td>\n",
       "      <td>False</td>\n",
       "      <td>False</td>\n",
       "      <td>False</td>\n",
       "    </tr>\n",
       "    <tr>\n",
       "      <th>1</th>\n",
       "      <td>False</td>\n",
       "      <td>False</td>\n",
       "      <td>False</td>\n",
       "      <td>False</td>\n",
       "      <td>False</td>\n",
       "      <td>False</td>\n",
       "      <td>False</td>\n",
       "      <td>False</td>\n",
       "      <td>False</td>\n",
       "      <td>False</td>\n",
       "      <td>False</td>\n",
       "      <td>False</td>\n",
       "      <td>False</td>\n",
       "      <td>False</td>\n",
       "      <td>False</td>\n",
       "    </tr>\n",
       "    <tr>\n",
       "      <th>2</th>\n",
       "      <td>False</td>\n",
       "      <td>False</td>\n",
       "      <td>False</td>\n",
       "      <td>False</td>\n",
       "      <td>False</td>\n",
       "      <td>False</td>\n",
       "      <td>False</td>\n",
       "      <td>False</td>\n",
       "      <td>False</td>\n",
       "      <td>False</td>\n",
       "      <td>False</td>\n",
       "      <td>False</td>\n",
       "      <td>False</td>\n",
       "      <td>False</td>\n",
       "      <td>False</td>\n",
       "    </tr>\n",
       "    <tr>\n",
       "      <th>3</th>\n",
       "      <td>False</td>\n",
       "      <td>False</td>\n",
       "      <td>False</td>\n",
       "      <td>False</td>\n",
       "      <td>False</td>\n",
       "      <td>False</td>\n",
       "      <td>False</td>\n",
       "      <td>False</td>\n",
       "      <td>False</td>\n",
       "      <td>False</td>\n",
       "      <td>False</td>\n",
       "      <td>False</td>\n",
       "      <td>False</td>\n",
       "      <td>False</td>\n",
       "      <td>True</td>\n",
       "    </tr>\n",
       "    <tr>\n",
       "      <th>4</th>\n",
       "      <td>False</td>\n",
       "      <td>False</td>\n",
       "      <td>False</td>\n",
       "      <td>False</td>\n",
       "      <td>False</td>\n",
       "      <td>False</td>\n",
       "      <td>False</td>\n",
       "      <td>False</td>\n",
       "      <td>False</td>\n",
       "      <td>False</td>\n",
       "      <td>False</td>\n",
       "      <td>False</td>\n",
       "      <td>False</td>\n",
       "      <td>False</td>\n",
       "      <td>False</td>\n",
       "    </tr>\n",
       "    <tr>\n",
       "      <th>...</th>\n",
       "      <td>...</td>\n",
       "      <td>...</td>\n",
       "      <td>...</td>\n",
       "      <td>...</td>\n",
       "      <td>...</td>\n",
       "      <td>...</td>\n",
       "      <td>...</td>\n",
       "      <td>...</td>\n",
       "      <td>...</td>\n",
       "      <td>...</td>\n",
       "      <td>...</td>\n",
       "      <td>...</td>\n",
       "      <td>...</td>\n",
       "      <td>...</td>\n",
       "      <td>...</td>\n",
       "    </tr>\n",
       "    <tr>\n",
       "      <th>210</th>\n",
       "      <td>False</td>\n",
       "      <td>False</td>\n",
       "      <td>False</td>\n",
       "      <td>False</td>\n",
       "      <td>False</td>\n",
       "      <td>False</td>\n",
       "      <td>False</td>\n",
       "      <td>False</td>\n",
       "      <td>False</td>\n",
       "      <td>False</td>\n",
       "      <td>False</td>\n",
       "      <td>False</td>\n",
       "      <td>False</td>\n",
       "      <td>False</td>\n",
       "      <td>False</td>\n",
       "    </tr>\n",
       "    <tr>\n",
       "      <th>211</th>\n",
       "      <td>False</td>\n",
       "      <td>False</td>\n",
       "      <td>False</td>\n",
       "      <td>False</td>\n",
       "      <td>False</td>\n",
       "      <td>False</td>\n",
       "      <td>False</td>\n",
       "      <td>False</td>\n",
       "      <td>False</td>\n",
       "      <td>False</td>\n",
       "      <td>False</td>\n",
       "      <td>False</td>\n",
       "      <td>False</td>\n",
       "      <td>False</td>\n",
       "      <td>False</td>\n",
       "    </tr>\n",
       "    <tr>\n",
       "      <th>212</th>\n",
       "      <td>False</td>\n",
       "      <td>False</td>\n",
       "      <td>False</td>\n",
       "      <td>False</td>\n",
       "      <td>False</td>\n",
       "      <td>False</td>\n",
       "      <td>False</td>\n",
       "      <td>False</td>\n",
       "      <td>False</td>\n",
       "      <td>False</td>\n",
       "      <td>False</td>\n",
       "      <td>False</td>\n",
       "      <td>False</td>\n",
       "      <td>False</td>\n",
       "      <td>False</td>\n",
       "    </tr>\n",
       "    <tr>\n",
       "      <th>213</th>\n",
       "      <td>False</td>\n",
       "      <td>False</td>\n",
       "      <td>False</td>\n",
       "      <td>False</td>\n",
       "      <td>False</td>\n",
       "      <td>False</td>\n",
       "      <td>False</td>\n",
       "      <td>False</td>\n",
       "      <td>False</td>\n",
       "      <td>False</td>\n",
       "      <td>False</td>\n",
       "      <td>False</td>\n",
       "      <td>False</td>\n",
       "      <td>False</td>\n",
       "      <td>False</td>\n",
       "    </tr>\n",
       "    <tr>\n",
       "      <th>214</th>\n",
       "      <td>False</td>\n",
       "      <td>False</td>\n",
       "      <td>False</td>\n",
       "      <td>False</td>\n",
       "      <td>False</td>\n",
       "      <td>False</td>\n",
       "      <td>False</td>\n",
       "      <td>False</td>\n",
       "      <td>False</td>\n",
       "      <td>False</td>\n",
       "      <td>False</td>\n",
       "      <td>False</td>\n",
       "      <td>False</td>\n",
       "      <td>False</td>\n",
       "      <td>True</td>\n",
       "    </tr>\n",
       "  </tbody>\n",
       "</table>\n",
       "<p>215 rows × 15 columns</p>\n",
       "</div>"
      ],
      "text/plain": [
       "     sl_no  gender  ssc_p  ssc_b  hsc_p  hsc_b  hsc_s  degree_p  degree_t  \\\n",
       "0    False   False  False  False  False  False  False     False     False   \n",
       "1    False   False  False  False  False  False  False     False     False   \n",
       "2    False   False  False  False  False  False  False     False     False   \n",
       "3    False   False  False  False  False  False  False     False     False   \n",
       "4    False   False  False  False  False  False  False     False     False   \n",
       "..     ...     ...    ...    ...    ...    ...    ...       ...       ...   \n",
       "210  False   False  False  False  False  False  False     False     False   \n",
       "211  False   False  False  False  False  False  False     False     False   \n",
       "212  False   False  False  False  False  False  False     False     False   \n",
       "213  False   False  False  False  False  False  False     False     False   \n",
       "214  False   False  False  False  False  False  False     False     False   \n",
       "\n",
       "     workex  etest_p  specialisation  mba_p  status  salary  \n",
       "0     False    False           False  False   False   False  \n",
       "1     False    False           False  False   False   False  \n",
       "2     False    False           False  False   False   False  \n",
       "3     False    False           False  False   False    True  \n",
       "4     False    False           False  False   False   False  \n",
       "..      ...      ...             ...    ...     ...     ...  \n",
       "210   False    False           False  False   False   False  \n",
       "211   False    False           False  False   False   False  \n",
       "212   False    False           False  False   False   False  \n",
       "213   False    False           False  False   False   False  \n",
       "214   False    False           False  False   False    True  \n",
       "\n",
       "[215 rows x 15 columns]"
      ]
     },
     "execution_count": 5,
     "metadata": {},
     "output_type": "execute_result"
    }
   ],
   "source": [
    "dataset.isnull()"
   ]
  },
  {
   "cell_type": "code",
   "execution_count": 7,
   "id": "bae6843a-6b95-4ebd-b482-2492703b4ccd",
   "metadata": {},
   "outputs": [
    {
     "data": {
      "text/plain": [
       "sl_no              0\n",
       "gender             0\n",
       "ssc_p              0\n",
       "ssc_b              0\n",
       "hsc_p              0\n",
       "hsc_b              0\n",
       "hsc_s              0\n",
       "degree_p           0\n",
       "degree_t           0\n",
       "workex             0\n",
       "etest_p            0\n",
       "specialisation     0\n",
       "mba_p              0\n",
       "status             0\n",
       "salary            67\n",
       "dtype: int64"
      ]
     },
     "execution_count": 7,
     "metadata": {},
     "output_type": "execute_result"
    }
   ],
   "source": [
    "dataset.isnull().sum()"
   ]
  },
  {
   "cell_type": "code",
   "execution_count": null,
   "id": "5912e0b5-a5e9-4815-8e34-634783fc2c71",
   "metadata": {},
   "outputs": [],
   "source": []
  },
  {
   "cell_type": "markdown",
   "id": "a7d189cd-292a-4045-96db-8f2730352171",
   "metadata": {},
   "source": [
    "# 67 studnet salary have null value because they haven't placed so we can assign 0 for null value of sudent salary \n"
   ]
  },
  {
   "cell_type": "code",
   "execution_count": 11,
   "id": "b8df2099-7ec4-4e9e-b077-eeadd10812a5",
   "metadata": {},
   "outputs": [],
   "source": [
    "dataset.fillna(0,inplace=True)"
   ]
  },
  {
   "cell_type": "code",
   "execution_count": 13,
   "id": "1df8dd4e-9651-4325-8994-402dc8df3a4b",
   "metadata": {},
   "outputs": [
    {
     "data": {
      "text/plain": [
       "sl_no             0\n",
       "gender            0\n",
       "ssc_p             0\n",
       "ssc_b             0\n",
       "hsc_p             0\n",
       "hsc_b             0\n",
       "hsc_s             0\n",
       "degree_p          0\n",
       "degree_t          0\n",
       "workex            0\n",
       "etest_p           0\n",
       "specialisation    0\n",
       "mba_p             0\n",
       "status            0\n",
       "salary            0\n",
       "dtype: int64"
      ]
     },
     "execution_count": 13,
     "metadata": {},
     "output_type": "execute_result"
    }
   ],
   "source": [
    "dataset.isnull().sum()"
   ]
  },
  {
   "cell_type": "code",
   "execution_count": null,
   "id": "8040a1b4-3b83-4028-9fbe-d67c9fff2038",
   "metadata": {},
   "outputs": [],
   "source": []
  },
  {
   "cell_type": "code",
   "execution_count": 16,
   "id": "f637241d-2edf-46be-b176-3df6f592de37",
   "metadata": {},
   "outputs": [],
   "source": [
    "# Deletethe null value rows\n",
    "dataset.dropna(inplace=True)"
   ]
  },
  {
   "cell_type": "code",
   "execution_count": 18,
   "id": "8d1c3547-1385-4cec-8010-6829e4e7e355",
   "metadata": {},
   "outputs": [
    {
     "data": {
      "text/html": [
       "<div>\n",
       "<style scoped>\n",
       "    .dataframe tbody tr th:only-of-type {\n",
       "        vertical-align: middle;\n",
       "    }\n",
       "\n",
       "    .dataframe tbody tr th {\n",
       "        vertical-align: top;\n",
       "    }\n",
       "\n",
       "    .dataframe thead th {\n",
       "        text-align: right;\n",
       "    }\n",
       "</style>\n",
       "<table border=\"1\" class=\"dataframe\">\n",
       "  <thead>\n",
       "    <tr style=\"text-align: right;\">\n",
       "      <th></th>\n",
       "      <th>sl_no</th>\n",
       "      <th>gender</th>\n",
       "      <th>ssc_p</th>\n",
       "      <th>ssc_b</th>\n",
       "      <th>hsc_p</th>\n",
       "      <th>hsc_b</th>\n",
       "      <th>hsc_s</th>\n",
       "      <th>degree_p</th>\n",
       "      <th>degree_t</th>\n",
       "      <th>workex</th>\n",
       "      <th>etest_p</th>\n",
       "      <th>specialisation</th>\n",
       "      <th>mba_p</th>\n",
       "      <th>status</th>\n",
       "      <th>salary</th>\n",
       "    </tr>\n",
       "  </thead>\n",
       "  <tbody>\n",
       "    <tr>\n",
       "      <th>0</th>\n",
       "      <td>1</td>\n",
       "      <td>M</td>\n",
       "      <td>67.00</td>\n",
       "      <td>Others</td>\n",
       "      <td>91.00</td>\n",
       "      <td>Others</td>\n",
       "      <td>Commerce</td>\n",
       "      <td>58.00</td>\n",
       "      <td>Sci&amp;Tech</td>\n",
       "      <td>No</td>\n",
       "      <td>55.0</td>\n",
       "      <td>Mkt&amp;HR</td>\n",
       "      <td>58.80</td>\n",
       "      <td>Placed</td>\n",
       "      <td>270000.0</td>\n",
       "    </tr>\n",
       "    <tr>\n",
       "      <th>1</th>\n",
       "      <td>2</td>\n",
       "      <td>M</td>\n",
       "      <td>79.33</td>\n",
       "      <td>Central</td>\n",
       "      <td>78.33</td>\n",
       "      <td>Others</td>\n",
       "      <td>Science</td>\n",
       "      <td>77.48</td>\n",
       "      <td>Sci&amp;Tech</td>\n",
       "      <td>Yes</td>\n",
       "      <td>86.5</td>\n",
       "      <td>Mkt&amp;Fin</td>\n",
       "      <td>66.28</td>\n",
       "      <td>Placed</td>\n",
       "      <td>200000.0</td>\n",
       "    </tr>\n",
       "    <tr>\n",
       "      <th>2</th>\n",
       "      <td>3</td>\n",
       "      <td>M</td>\n",
       "      <td>65.00</td>\n",
       "      <td>Central</td>\n",
       "      <td>68.00</td>\n",
       "      <td>Central</td>\n",
       "      <td>Arts</td>\n",
       "      <td>64.00</td>\n",
       "      <td>Comm&amp;Mgmt</td>\n",
       "      <td>No</td>\n",
       "      <td>75.0</td>\n",
       "      <td>Mkt&amp;Fin</td>\n",
       "      <td>57.80</td>\n",
       "      <td>Placed</td>\n",
       "      <td>250000.0</td>\n",
       "    </tr>\n",
       "    <tr>\n",
       "      <th>3</th>\n",
       "      <td>4</td>\n",
       "      <td>M</td>\n",
       "      <td>56.00</td>\n",
       "      <td>Central</td>\n",
       "      <td>52.00</td>\n",
       "      <td>Central</td>\n",
       "      <td>Science</td>\n",
       "      <td>52.00</td>\n",
       "      <td>Sci&amp;Tech</td>\n",
       "      <td>No</td>\n",
       "      <td>66.0</td>\n",
       "      <td>Mkt&amp;HR</td>\n",
       "      <td>59.43</td>\n",
       "      <td>Not Placed</td>\n",
       "      <td>0.0</td>\n",
       "    </tr>\n",
       "    <tr>\n",
       "      <th>4</th>\n",
       "      <td>5</td>\n",
       "      <td>M</td>\n",
       "      <td>85.80</td>\n",
       "      <td>Central</td>\n",
       "      <td>73.60</td>\n",
       "      <td>Central</td>\n",
       "      <td>Commerce</td>\n",
       "      <td>73.30</td>\n",
       "      <td>Comm&amp;Mgmt</td>\n",
       "      <td>No</td>\n",
       "      <td>96.8</td>\n",
       "      <td>Mkt&amp;Fin</td>\n",
       "      <td>55.50</td>\n",
       "      <td>Placed</td>\n",
       "      <td>425000.0</td>\n",
       "    </tr>\n",
       "    <tr>\n",
       "      <th>...</th>\n",
       "      <td>...</td>\n",
       "      <td>...</td>\n",
       "      <td>...</td>\n",
       "      <td>...</td>\n",
       "      <td>...</td>\n",
       "      <td>...</td>\n",
       "      <td>...</td>\n",
       "      <td>...</td>\n",
       "      <td>...</td>\n",
       "      <td>...</td>\n",
       "      <td>...</td>\n",
       "      <td>...</td>\n",
       "      <td>...</td>\n",
       "      <td>...</td>\n",
       "      <td>...</td>\n",
       "    </tr>\n",
       "    <tr>\n",
       "      <th>210</th>\n",
       "      <td>211</td>\n",
       "      <td>M</td>\n",
       "      <td>80.60</td>\n",
       "      <td>Others</td>\n",
       "      <td>82.00</td>\n",
       "      <td>Others</td>\n",
       "      <td>Commerce</td>\n",
       "      <td>77.60</td>\n",
       "      <td>Comm&amp;Mgmt</td>\n",
       "      <td>No</td>\n",
       "      <td>91.0</td>\n",
       "      <td>Mkt&amp;Fin</td>\n",
       "      <td>74.49</td>\n",
       "      <td>Placed</td>\n",
       "      <td>400000.0</td>\n",
       "    </tr>\n",
       "    <tr>\n",
       "      <th>211</th>\n",
       "      <td>212</td>\n",
       "      <td>M</td>\n",
       "      <td>58.00</td>\n",
       "      <td>Others</td>\n",
       "      <td>60.00</td>\n",
       "      <td>Others</td>\n",
       "      <td>Science</td>\n",
       "      <td>72.00</td>\n",
       "      <td>Sci&amp;Tech</td>\n",
       "      <td>No</td>\n",
       "      <td>74.0</td>\n",
       "      <td>Mkt&amp;Fin</td>\n",
       "      <td>53.62</td>\n",
       "      <td>Placed</td>\n",
       "      <td>275000.0</td>\n",
       "    </tr>\n",
       "    <tr>\n",
       "      <th>212</th>\n",
       "      <td>213</td>\n",
       "      <td>M</td>\n",
       "      <td>67.00</td>\n",
       "      <td>Others</td>\n",
       "      <td>67.00</td>\n",
       "      <td>Others</td>\n",
       "      <td>Commerce</td>\n",
       "      <td>73.00</td>\n",
       "      <td>Comm&amp;Mgmt</td>\n",
       "      <td>Yes</td>\n",
       "      <td>59.0</td>\n",
       "      <td>Mkt&amp;Fin</td>\n",
       "      <td>69.72</td>\n",
       "      <td>Placed</td>\n",
       "      <td>295000.0</td>\n",
       "    </tr>\n",
       "    <tr>\n",
       "      <th>213</th>\n",
       "      <td>214</td>\n",
       "      <td>F</td>\n",
       "      <td>74.00</td>\n",
       "      <td>Others</td>\n",
       "      <td>66.00</td>\n",
       "      <td>Others</td>\n",
       "      <td>Commerce</td>\n",
       "      <td>58.00</td>\n",
       "      <td>Comm&amp;Mgmt</td>\n",
       "      <td>No</td>\n",
       "      <td>70.0</td>\n",
       "      <td>Mkt&amp;HR</td>\n",
       "      <td>60.23</td>\n",
       "      <td>Placed</td>\n",
       "      <td>204000.0</td>\n",
       "    </tr>\n",
       "    <tr>\n",
       "      <th>214</th>\n",
       "      <td>215</td>\n",
       "      <td>M</td>\n",
       "      <td>62.00</td>\n",
       "      <td>Central</td>\n",
       "      <td>58.00</td>\n",
       "      <td>Others</td>\n",
       "      <td>Science</td>\n",
       "      <td>53.00</td>\n",
       "      <td>Comm&amp;Mgmt</td>\n",
       "      <td>No</td>\n",
       "      <td>89.0</td>\n",
       "      <td>Mkt&amp;HR</td>\n",
       "      <td>60.22</td>\n",
       "      <td>Not Placed</td>\n",
       "      <td>0.0</td>\n",
       "    </tr>\n",
       "  </tbody>\n",
       "</table>\n",
       "<p>215 rows × 15 columns</p>\n",
       "</div>"
      ],
      "text/plain": [
       "     sl_no gender  ssc_p    ssc_b  hsc_p    hsc_b     hsc_s  degree_p  \\\n",
       "0        1      M  67.00   Others  91.00   Others  Commerce     58.00   \n",
       "1        2      M  79.33  Central  78.33   Others   Science     77.48   \n",
       "2        3      M  65.00  Central  68.00  Central      Arts     64.00   \n",
       "3        4      M  56.00  Central  52.00  Central   Science     52.00   \n",
       "4        5      M  85.80  Central  73.60  Central  Commerce     73.30   \n",
       "..     ...    ...    ...      ...    ...      ...       ...       ...   \n",
       "210    211      M  80.60   Others  82.00   Others  Commerce     77.60   \n",
       "211    212      M  58.00   Others  60.00   Others   Science     72.00   \n",
       "212    213      M  67.00   Others  67.00   Others  Commerce     73.00   \n",
       "213    214      F  74.00   Others  66.00   Others  Commerce     58.00   \n",
       "214    215      M  62.00  Central  58.00   Others   Science     53.00   \n",
       "\n",
       "      degree_t workex  etest_p specialisation  mba_p      status    salary  \n",
       "0     Sci&Tech     No     55.0         Mkt&HR  58.80      Placed  270000.0  \n",
       "1     Sci&Tech    Yes     86.5        Mkt&Fin  66.28      Placed  200000.0  \n",
       "2    Comm&Mgmt     No     75.0        Mkt&Fin  57.80      Placed  250000.0  \n",
       "3     Sci&Tech     No     66.0         Mkt&HR  59.43  Not Placed       0.0  \n",
       "4    Comm&Mgmt     No     96.8        Mkt&Fin  55.50      Placed  425000.0  \n",
       "..         ...    ...      ...            ...    ...         ...       ...  \n",
       "210  Comm&Mgmt     No     91.0        Mkt&Fin  74.49      Placed  400000.0  \n",
       "211   Sci&Tech     No     74.0        Mkt&Fin  53.62      Placed  275000.0  \n",
       "212  Comm&Mgmt    Yes     59.0        Mkt&Fin  69.72      Placed  295000.0  \n",
       "213  Comm&Mgmt     No     70.0         Mkt&HR  60.23      Placed  204000.0  \n",
       "214  Comm&Mgmt     No     89.0         Mkt&HR  60.22  Not Placed       0.0  \n",
       "\n",
       "[215 rows x 15 columns]"
      ]
     },
     "execution_count": 18,
     "metadata": {},
     "output_type": "execute_result"
    }
   ],
   "source": [
    "dataset"
   ]
  },
  {
   "cell_type": "markdown",
   "id": "095d18ee-4e1a-48f5-a704-df39a7736e6d",
   "metadata": {},
   "source": [
    "# 2)How many of them are not placed?"
   ]
  },
  {
   "cell_type": "code",
   "execution_count": 21,
   "id": "b38bd6c8-e1d9-44e1-b03c-4c5318c4a87d",
   "metadata": {},
   "outputs": [
    {
     "data": {
      "text/plain": [
       "3      Not Placed\n",
       "5      Not Placed\n",
       "6      Not Placed\n",
       "9      Not Placed\n",
       "12     Not Placed\n",
       "          ...    \n",
       "198    Not Placed\n",
       "201    Not Placed\n",
       "206    Not Placed\n",
       "208    Not Placed\n",
       "214    Not Placed\n",
       "Name: status, Length: 67, dtype: object"
      ]
     },
     "execution_count": 21,
     "metadata": {},
     "output_type": "execute_result"
    }
   ],
   "source": [
    "np=dataset[dataset['status']=='Not Placed']['status']\n",
    "np"
   ]
  },
  {
   "cell_type": "markdown",
   "id": "e49f4192-ad80-4852-90e6-a5e8b422bf2c",
   "metadata": {},
   "source": [
    "# 3)Find the reason for non placement from the dataset?"
   ]
  },
  {
   "cell_type": "code",
   "execution_count": 79,
   "id": "24296787-ee76-4f67-9669-a1b9ac88833f",
   "metadata": {},
   "outputs": [
    {
     "data": {
      "text/plain": [
       "Index([ 73.0,  65.0,  63.0,  67.0,  77.0,  69.0,  74.0,  62.0,  58.0,  82.0,\n",
       "        84.0,  79.0,  80.0,  66.5,  72.0,  70.0,  64.0,  61.0,  87.0,  68.0,\n",
       "        84.2,  71.0,  66.0,  85.0,  60.0,  76.0,  80.4,  89.4,  76.7,  60.8,\n",
       "        74.9, 77.44, 77.67, 67.16,  75.4,  49.0,  53.0,  74.2, 73.96, 73.24,\n",
       "        59.0,  88.0,  78.5,  65.2, 83.96, 55.68, 83.33,  68.2,  64.6,  69.5,\n",
       "        60.4,  85.8,  69.6,  69.8,  77.4,  76.5, 76.76,  81.0,  78.0,  75.2,\n",
       "        52.6, 60.23,  86.5,  83.0, 80.92,  75.0, 84.86, 79.33,  56.6,  81.7,\n",
       "       83.84,  80.6],\n",
       "      dtype='float64', name='ssc_p')"
      ]
     },
     "execution_count": 79,
     "metadata": {},
     "output_type": "execute_result"
    }
   ],
   "source": [
    "np=dataset[dataset['status']=='Placed']['ssc_p'].value_counts().index\n",
    "np"
   ]
  },
  {
   "cell_type": "code",
   "execution_count": 91,
   "id": "b7060027-588e-4d1a-8c68-a9451d12e14b",
   "metadata": {},
   "outputs": [
    {
     "data": {
      "text/html": [
       "<div>\n",
       "<style scoped>\n",
       "    .dataframe tbody tr th:only-of-type {\n",
       "        vertical-align: middle;\n",
       "    }\n",
       "\n",
       "    .dataframe tbody tr th {\n",
       "        vertical-align: top;\n",
       "    }\n",
       "\n",
       "    .dataframe thead th {\n",
       "        text-align: right;\n",
       "    }\n",
       "</style>\n",
       "<table border=\"1\" class=\"dataframe\">\n",
       "  <thead>\n",
       "    <tr style=\"text-align: right;\">\n",
       "      <th></th>\n",
       "      <th>uniquevalue</th>\n",
       "      <th>frequency</th>\n",
       "    </tr>\n",
       "  </thead>\n",
       "  <tbody>\n",
       "  </tbody>\n",
       "</table>\n",
       "</div>"
      ],
      "text/plain": [
       "Empty DataFrame\n",
       "Columns: [uniquevalue, frequency]\n",
       "Index: []"
      ]
     },
     "execution_count": 91,
     "metadata": {},
     "output_type": "execute_result"
    }
   ],
   "source": [
    "freq_table= pd.DataFrame(columns=['uniquevalue','frequency'])\n",
    "freq_table"
   ]
  },
  {
   "cell_type": "code",
   "execution_count": 93,
   "id": "0daae010-75f2-4743-82c1-0418ccbf0b52",
   "metadata": {},
   "outputs": [
    {
     "data": {
      "text/html": [
       "<div>\n",
       "<style scoped>\n",
       "    .dataframe tbody tr th:only-of-type {\n",
       "        vertical-align: middle;\n",
       "    }\n",
       "\n",
       "    .dataframe tbody tr th {\n",
       "        vertical-align: top;\n",
       "    }\n",
       "\n",
       "    .dataframe thead th {\n",
       "        text-align: right;\n",
       "    }\n",
       "</style>\n",
       "<table border=\"1\" class=\"dataframe\">\n",
       "  <thead>\n",
       "    <tr style=\"text-align: right;\">\n",
       "      <th></th>\n",
       "      <th>uniquevalue</th>\n",
       "      <th>frequency</th>\n",
       "    </tr>\n",
       "  </thead>\n",
       "  <tbody>\n",
       "    <tr>\n",
       "      <th>0</th>\n",
       "      <td>59.43</td>\n",
       "      <td>1</td>\n",
       "    </tr>\n",
       "    <tr>\n",
       "      <th>1</th>\n",
       "      <td>69.28</td>\n",
       "      <td>1</td>\n",
       "    </tr>\n",
       "    <tr>\n",
       "      <th>2</th>\n",
       "      <td>58.81</td>\n",
       "      <td>1</td>\n",
       "    </tr>\n",
       "    <tr>\n",
       "      <th>3</th>\n",
       "      <td>64.15</td>\n",
       "      <td>1</td>\n",
       "    </tr>\n",
       "    <tr>\n",
       "      <th>4</th>\n",
       "      <td>61.58</td>\n",
       "      <td>1</td>\n",
       "    </tr>\n",
       "    <tr>\n",
       "      <th>...</th>\n",
       "      <td>...</td>\n",
       "      <td>...</td>\n",
       "    </tr>\n",
       "    <tr>\n",
       "      <th>62</th>\n",
       "      <td>55.41</td>\n",
       "      <td>1</td>\n",
       "    </tr>\n",
       "    <tr>\n",
       "      <th>63</th>\n",
       "      <td>69.03</td>\n",
       "      <td>1</td>\n",
       "    </tr>\n",
       "    <tr>\n",
       "      <th>64</th>\n",
       "      <td>59.47</td>\n",
       "      <td>1</td>\n",
       "    </tr>\n",
       "    <tr>\n",
       "      <th>65</th>\n",
       "      <td>64.95</td>\n",
       "      <td>1</td>\n",
       "    </tr>\n",
       "    <tr>\n",
       "      <th>66</th>\n",
       "      <td>60.22</td>\n",
       "      <td>1</td>\n",
       "    </tr>\n",
       "  </tbody>\n",
       "</table>\n",
       "<p>67 rows × 2 columns</p>\n",
       "</div>"
      ],
      "text/plain": [
       "    uniquevalue  frequency\n",
       "0         59.43          1\n",
       "1         69.28          1\n",
       "2         58.81          1\n",
       "3         64.15          1\n",
       "4         61.58          1\n",
       "..          ...        ...\n",
       "62        55.41          1\n",
       "63        69.03          1\n",
       "64        59.47          1\n",
       "65        64.95          1\n",
       "66        60.22          1\n",
       "\n",
       "[67 rows x 2 columns]"
      ]
     },
     "execution_count": 93,
     "metadata": {},
     "output_type": "execute_result"
    }
   ],
   "source": [
    "freq_table['uniquevalue']=dataset[dataset['status']=='Not Placed']['mba_p'].value_counts().index\n",
    "freq_table['frequency']=dataset[dataset['status']=='Not Placed']['mba_p'].value_counts().values\n",
    "freq_table"
   ]
  },
  {
   "cell_type": "code",
   "execution_count": 87,
   "id": "be756a51-9abc-4407-8b34-f98fdc1558ba",
   "metadata": {},
   "outputs": [
    {
     "data": {
      "text/html": [
       "<div>\n",
       "<style scoped>\n",
       "    .dataframe tbody tr th:only-of-type {\n",
       "        vertical-align: middle;\n",
       "    }\n",
       "\n",
       "    .dataframe tbody tr th {\n",
       "        vertical-align: top;\n",
       "    }\n",
       "\n",
       "    .dataframe thead th {\n",
       "        text-align: right;\n",
       "    }\n",
       "</style>\n",
       "<table border=\"1\" class=\"dataframe\">\n",
       "  <thead>\n",
       "    <tr style=\"text-align: right;\">\n",
       "      <th></th>\n",
       "      <th>uniquevalue</th>\n",
       "      <th>frequency</th>\n",
       "    </tr>\n",
       "  </thead>\n",
       "  <tbody>\n",
       "  </tbody>\n",
       "</table>\n",
       "</div>"
      ],
      "text/plain": [
       "Empty DataFrame\n",
       "Columns: [uniquevalue, frequency]\n",
       "Index: []"
      ]
     },
     "execution_count": 87,
     "metadata": {},
     "output_type": "execute_result"
    }
   ],
   "source": [
    "freq_table= pd.DataFrame(columns=['uniquevalue','frequency'])\n",
    "freq_table"
   ]
  },
  {
   "cell_type": "code",
   "execution_count": 89,
   "id": "736b0d44-b385-48a4-90e5-0c95e6de597d",
   "metadata": {},
   "outputs": [
    {
     "data": {
      "text/html": [
       "<div>\n",
       "<style scoped>\n",
       "    .dataframe tbody tr th:only-of-type {\n",
       "        vertical-align: middle;\n",
       "    }\n",
       "\n",
       "    .dataframe tbody tr th {\n",
       "        vertical-align: top;\n",
       "    }\n",
       "\n",
       "    .dataframe thead th {\n",
       "        text-align: right;\n",
       "    }\n",
       "</style>\n",
       "<table border=\"1\" class=\"dataframe\">\n",
       "  <thead>\n",
       "    <tr style=\"text-align: right;\">\n",
       "      <th></th>\n",
       "      <th>uniquevalue</th>\n",
       "      <th>frequency</th>\n",
       "    </tr>\n",
       "  </thead>\n",
       "  <tbody>\n",
       "    <tr>\n",
       "      <th>0</th>\n",
       "      <td>56.70</td>\n",
       "      <td>3</td>\n",
       "    </tr>\n",
       "    <tr>\n",
       "      <th>1</th>\n",
       "      <td>62.48</td>\n",
       "      <td>2</td>\n",
       "    </tr>\n",
       "    <tr>\n",
       "      <th>2</th>\n",
       "      <td>61.29</td>\n",
       "      <td>2</td>\n",
       "    </tr>\n",
       "    <tr>\n",
       "      <th>3</th>\n",
       "      <td>68.07</td>\n",
       "      <td>2</td>\n",
       "    </tr>\n",
       "    <tr>\n",
       "      <th>4</th>\n",
       "      <td>58.80</td>\n",
       "      <td>1</td>\n",
       "    </tr>\n",
       "    <tr>\n",
       "      <th>...</th>\n",
       "      <td>...</td>\n",
       "      <td>...</td>\n",
       "    </tr>\n",
       "    <tr>\n",
       "      <th>138</th>\n",
       "      <td>58.46</td>\n",
       "      <td>1</td>\n",
       "    </tr>\n",
       "    <tr>\n",
       "      <th>139</th>\n",
       "      <td>58.78</td>\n",
       "      <td>1</td>\n",
       "    </tr>\n",
       "    <tr>\n",
       "      <th>140</th>\n",
       "      <td>59.69</td>\n",
       "      <td>1</td>\n",
       "    </tr>\n",
       "    <tr>\n",
       "      <th>141</th>\n",
       "      <td>57.24</td>\n",
       "      <td>1</td>\n",
       "    </tr>\n",
       "    <tr>\n",
       "      <th>142</th>\n",
       "      <td>60.23</td>\n",
       "      <td>1</td>\n",
       "    </tr>\n",
       "  </tbody>\n",
       "</table>\n",
       "<p>143 rows × 2 columns</p>\n",
       "</div>"
      ],
      "text/plain": [
       "     uniquevalue  frequency\n",
       "0          56.70          3\n",
       "1          62.48          2\n",
       "2          61.29          2\n",
       "3          68.07          2\n",
       "4          58.80          1\n",
       "..           ...        ...\n",
       "138        58.46          1\n",
       "139        58.78          1\n",
       "140        59.69          1\n",
       "141        57.24          1\n",
       "142        60.23          1\n",
       "\n",
       "[143 rows x 2 columns]"
      ]
     },
     "execution_count": 89,
     "metadata": {},
     "output_type": "execute_result"
    }
   ],
   "source": [
    "freq_table['uniquevalue']=dataset[dataset['status']=='Placed']['mba_p'].value_counts().index\n",
    "freq_table['frequency']=dataset[dataset['status']=='Placed']['mba_p'].value_counts().values\n",
    "freq_table"
   ]
  },
  {
   "cell_type": "code",
   "execution_count": 25,
   "id": "9eea83f1-c7c3-42a4-aeba-0ba756c87c19",
   "metadata": {},
   "outputs": [
    {
     "data": {
      "text/plain": [
       "TtestResult(statistic=11.173294337111484, pvalue=4.115201043884403e-23, df=213.0)"
      ]
     },
     "execution_count": 25,
     "metadata": {},
     "output_type": "execute_result"
    }
   ],
   "source": [
    "from scipy.stats import ttest_ind\n",
    "placed=dataset[dataset['status']=='Placed']['ssc_p']\n",
    "Nonplaced=dataset[dataset['status']=='Not Placed']['ssc_p']\n",
    "ttest_ind(placed,Nonplaced)"
   ]
  },
  {
   "cell_type": "markdown",
   "id": "f92fdb78-4205-498a-bb31-c4d1a037fb41",
   "metadata": {},
   "source": [
    "# p <0.05 so Reject Null Hypothesis and accept alternate hypothesis\n",
    "# Interprete : There are  significant different between placed and not placed student ssc_p mark"
   ]
  },
  {
   "cell_type": "code",
   "execution_count": 29,
   "id": "f9992a15-5b3b-48bd-959b-e3ad620c8b61",
   "metadata": {},
   "outputs": [
    {
     "data": {
      "text/plain": [
       "TtestResult(statistic=8.230746477379519, pvalue=1.849212756931434e-14, df=213.0)"
      ]
     },
     "execution_count": 29,
     "metadata": {},
     "output_type": "execute_result"
    }
   ],
   "source": [
    "placed=dataset[dataset['status']=='Placed']['hsc_p']\n",
    "Nonplaced=dataset[dataset['status']=='Not Placed']['hsc_p']\n",
    "ttest_ind(placed,Nonplaced)"
   ]
  },
  {
   "cell_type": "markdown",
   "id": "97fc7ed9-bbef-4003-89df-1676aa26af28",
   "metadata": {},
   "source": [
    "# p <0.05 so Reject Null Hypothesis and accept alternate hypothesis\n",
    "# Interprete : There are  significant different between placed and not placed student hsc_p mark"
   ]
  },
  {
   "cell_type": "code",
   "execution_count": 31,
   "id": "b69cb621-dea1-421b-960a-7bb6ed0dde86",
   "metadata": {},
   "outputs": [
    {
     "data": {
      "text/plain": [
       "TtestResult(statistic=7.982429212839097, pvalue=8.807682138862608e-14, df=213.0)"
      ]
     },
     "execution_count": 31,
     "metadata": {},
     "output_type": "execute_result"
    }
   ],
   "source": [
    "placed=dataset[dataset['status']=='Placed']['degree_p']\n",
    "Nonplaced=dataset[dataset['status']=='Not Placed']['degree_p']\n",
    "ttest_ind(placed,Nonplaced)"
   ]
  },
  {
   "cell_type": "markdown",
   "id": "5afa9819-7fa3-4346-8bb9-51b2120cb9cc",
   "metadata": {},
   "source": [
    "# p <0.05 so Reject Null Hypothesis and accept alternate hypothesis\n",
    "# Interprete : There are  significant different between placed and not placed student degree_p mark"
   ]
  },
  {
   "cell_type": "code",
   "execution_count": 81,
   "id": "8dd33b1c-d9b2-442e-8496-6a5f672b17ba",
   "metadata": {},
   "outputs": [
    {
     "data": {
      "text/plain": [
       "TtestResult(statistic=1.8781977946559039, pvalue=0.061720381110174166, df=213.0)"
      ]
     },
     "execution_count": 81,
     "metadata": {},
     "output_type": "execute_result"
    }
   ],
   "source": [
    "placed=dataset[dataset['status']=='Placed']['etest_p']\n",
    "Nonplaced=dataset[dataset['status']=='Not Placed']['etest_p']\n",
    "ttest_ind(placed,Nonplaced)"
   ]
  },
  {
   "cell_type": "markdown",
   "id": "47468c33-97fd-4325-9287-b4bfb525c8f4",
   "metadata": {},
   "source": [
    "# p >0.05 so Accept Null Hypothesis and Reject alternate hypothesis\n",
    "# Interprete : There are  no significant different between placed and not placed student entrance test mark"
   ]
  },
  {
   "cell_type": "code",
   "execution_count": 83,
   "id": "970f38df-9d85-484c-bdd4-c776db0d0486",
   "metadata": {},
   "outputs": [
    {
     "data": {
      "text/plain": [
       "TtestResult(statistic=1.1259706009659818, pvalue=0.26144500197748627, df=213.0)"
      ]
     },
     "execution_count": 83,
     "metadata": {},
     "output_type": "execute_result"
    }
   ],
   "source": [
    "placed=dataset[dataset['status']=='Placed']['mba_p']\n",
    "Nonplaced=dataset[dataset['status']=='Not Placed']['mba_p']\n",
    "ttest_ind(placed,Nonplaced)"
   ]
  },
  {
   "cell_type": "markdown",
   "id": "3e5c0815-5c01-4a7b-852b-b35a4478d65e",
   "metadata": {},
   "source": [
    "# p <0.05 so Reject Null Hypothesis and Accept alternate hypothesis\n",
    "# Interprete : There are  significant different between placed and not placed student mba_p mark"
   ]
  },
  {
   "cell_type": "markdown",
   "id": "281dc6a8-4022-4074-b15e-68c52fb7f65b",
   "metadata": {},
   "source": [
    "# Who have got less marks in ssc_p, hsc_p and mba_p they didn't placed"
   ]
  },
  {
   "cell_type": "markdown",
   "id": "838cc0f5-0a5e-46c8-a057-2969f212bf50",
   "metadata": {},
   "source": [
    "# 4)What kind of relation between salary and mba_p"
   ]
  },
  {
   "cell_type": "code",
   "execution_count": null,
   "id": "ac149f67-c0e1-44d9-a038-c5715d4c1ba9",
   "metadata": {},
   "outputs": [],
   "source": [
    "def qualQuan(dataset):\n",
    "    quan=[]\n",
    "    qual=[]\n",
    "    for cn in dataset.columns:\n",
    "        if(dataset[cn].dtype == 'O'):\n",
    "            qual.append(cn)\n",
    "        else:\n",
    "            quan.append(cn)\n",
    "    return qual, quan"
   ]
  },
  {
   "cell_type": "code",
   "execution_count": null,
   "id": "0f79bbbf-6052-4b29-95ac-b22a497763ef",
   "metadata": {},
   "outputs": [],
   "source": [
    "qual,quan=qualQuan(dataset)\n",
    "print(qual)\n",
    "print(quan)\n",
    "del quan[0]\n",
    "print(\"After Delete Slno : \",quan)"
   ]
  },
  {
   "cell_type": "code",
   "execution_count": null,
   "id": "ecf99689-b264-4ac7-97c7-94d647b28665",
   "metadata": {},
   "outputs": [],
   "source": [
    "dataset[quan]"
   ]
  },
  {
   "cell_type": "code",
   "execution_count": null,
   "id": "9c95e3d3-a301-4959-a9e8-fbb428a28c6e",
   "metadata": {},
   "outputs": [],
   "source": [
    "dataset[quan].corr()"
   ]
  },
  {
   "cell_type": "code",
   "execution_count": null,
   "id": "370dc826-5a5c-49e5-a37f-5dc051ef6bde",
   "metadata": {},
   "outputs": [],
   "source": [
    "\"\"\"\n",
    "correlation(salary,mba_p?) = 13%  postive relation \n",
    "It is weak relaonship\n",
    "\"\"\""
   ]
  },
  {
   "cell_type": "code",
   "execution_count": null,
   "id": "22a22dc5-e5ec-4841-8154-884da626d42d",
   "metadata": {},
   "outputs": [],
   "source": [
    "dataset[quan].cov()"
   ]
  },
  {
   "cell_type": "code",
   "execution_count": null,
   "id": "9326b522-fe78-418a-9940-d59668f3b7df",
   "metadata": {},
   "outputs": [],
   "source": [
    "\"\"\"\n",
    "covarience(salary,mba_p?) = 126245%  postive covarience \n",
    "\"\"\""
   ]
  },
  {
   "cell_type": "code",
   "execution_count": null,
   "id": "5b3d7ec0-4b57-4eef-9955-7d106ee671f3",
   "metadata": {},
   "outputs": [],
   "source": [
    "import statsmodels.api as sm\n",
    "from statsmodels.formula.api import ols\n",
    "model=ols('salary~mba_p', data=dataset[quan]).fit()\n",
    "anova_result = sm.stats.anova_lm(model, type=2)\n",
    "anova_result"
   ]
  },
  {
   "cell_type": "markdown",
   "id": "7bcac15c-5b5e-4b91-bbce-48ff1a0283a1",
   "metadata": {},
   "source": [
    "# p<0.5 so Regect Null Hypothesis - There are no significant relation between salary and mba marks"
   ]
  },
  {
   "cell_type": "markdown",
   "id": "ac7ccbb0-b4db-495a-ab5e-b11acdee7a1e",
   "metadata": {},
   "source": [
    "# 5)Which specialization is getting minimum salary?"
   ]
  },
  {
   "cell_type": "code",
   "execution_count": null,
   "id": "ae7aa1af-0e6a-4cfb-87d1-9cd57633e3f5",
   "metadata": {},
   "outputs": [],
   "source": [
    "dataset['specialisation'].value_counts()"
   ]
  },
  {
   "cell_type": "code",
   "execution_count": null,
   "id": "1dd1823b-89c9-446c-b25a-c2914ce5f3dd",
   "metadata": {},
   "outputs": [],
   "source": [
    "# specialisation Mkt&HR Mkt&Fin\n",
    "\n",
    "Hr = dataset[(dataset['specialisation']=='Mkt&HR')&(dataset['salary']>0)]['salary']\n",
    "Fin = dataset[(dataset['specialisation']=='Mkt&Fin')&(dataset['salary']>0)]['salary']\n",
    "print('Minimum Salary of Mkt&HR : ',Hr.min())\n",
    "print('Minimum Salary of Mkt&Fin : ',Fin.min())"
   ]
  },
  {
   "cell_type": "markdown",
   "id": "ab804e94-dcc6-48e0-95a3-b32e4714980e",
   "metadata": {},
   "source": [
    "# HR and Finance both specilization have got mnimum salary Ra 20000"
   ]
  },
  {
   "cell_type": "markdown",
   "id": "b4b09e16-8eb5-4866-a287-ae9eb8858c29",
   "metadata": {},
   "source": [
    "# 6) How many of them getting above 500000 salary?"
   ]
  },
  {
   "cell_type": "code",
   "execution_count": null,
   "id": "fbf29e50-f364-40e2-a7aa-76154854bf47",
   "metadata": {},
   "outputs": [],
   "source": [
    "dataset[dataset['salary']>500000] ['salary']"
   ]
  },
  {
   "cell_type": "code",
   "execution_count": null,
   "id": "5d090498-e8f4-4bf8-959f-7311009f006a",
   "metadata": {},
   "outputs": [],
   "source": [
    "salaryabove5L=(dataset['salary']>500000).sum()\n",
    "print(salaryabove5L,\" sudnet got above 5L Salary\")"
   ]
  },
  {
   "cell_type": "markdown",
   "id": "060a10e1-11f7-413d-903a-c9ecf26e956d",
   "metadata": {},
   "source": [
    "# 3  studnet have got above 5L Salary"
   ]
  },
  {
   "cell_type": "markdown",
   "id": "322edd92-2a2e-4774-a0f0-aa01fdddfaf3",
   "metadata": {},
   "source": [
    "# 7)Test the Analysis of Variance between etest_p and mba_p at signifance level 5%.(Make decision using Hypothesis Testing)"
   ]
  },
  {
   "cell_type": "code",
   "execution_count": null,
   "id": "fe7e4c1f-08a4-476f-af53-881564ffed25",
   "metadata": {},
   "outputs": [],
   "source": [
    "dataset[quan].cov()"
   ]
  },
  {
   "cell_type": "markdown",
   "id": "573d30b2-9c16-4c75-9888-b655912a04f3",
   "metadata": {},
   "source": [
    "# covariance(etest_p,mba_p) = 16% Positive relation"
   ]
  },
  {
   "cell_type": "code",
   "execution_count": null,
   "id": "20f6138f-fa2e-4a45-8d62-148472a03c32",
   "metadata": {},
   "outputs": [],
   "source": [
    "# T Testdataset[quan].cov()\n",
    "from scipy.stats import ttest_inddataset[quan].cov()\n",
    "ttest_ind(dataset['etest_p'],dataset['mba_p'])"
   ]
  },
  {
   "cell_type": "markdown",
   "id": "de989156-156a-4c95-9490-6890d4350f4c",
   "metadata": {},
   "source": [
    "# T test p < 0.05"
   ]
  },
  {
   "cell_type": "code",
   "execution_count": null,
   "id": "443ce429-7309-4e11-a9da-fe6effcb38f3",
   "metadata": {},
   "outputs": [],
   "source": [
    "import scipy.stats as stats\n",
    "stats.f_oneway(dataset['etest_p'],dataset['mba_p'])"
   ]
  },
  {
   "cell_type": "markdown",
   "id": "0167cee5-7417-4cb8-aae1-9910bef9e5b8",
   "metadata": {},
   "source": [
    "# Oneway p < 0.05"
   ]
  },
  {
   "cell_type": "code",
   "execution_count": null,
   "id": "90ba9557-22c9-45f9-aa81-f1efbb6987db",
   "metadata": {},
   "outputs": [],
   "source": [
    "import statsmodels.api as sm\n",
    "from statsmodels.formula.api import ols\n",
    "model=ols('etest_p~mba_p', data=dataset).fit()\n",
    "anova_result = sm.stats.anova_lm(model, type=2)\n",
    "anova_result"
   ]
  },
  {
   "cell_type": "markdown",
   "id": "c2b73c36-d963-462a-b373-05a11adb471f",
   "metadata": {},
   "source": [
    "# p<0.05 Reject Null hypothesis and Accept Alternate Hypothesis\n",
    "# There are no significant diffrence between entrance test and MBA degree mark"
   ]
  },
  {
   "cell_type": "markdown",
   "id": "303df48d-18bb-4190-a3dd-dded84ca4513",
   "metadata": {},
   "source": [
    "# 8)Test the similarity between the degree_t(Sci&Tech) and specialisation( Mkt&HR) with respect to salary at significance level of 5%.(Make decision using Hypothesis Testing)"
   ]
  },
  {
   "cell_type": "markdown",
   "id": "5e13213b-a0d9-4947-bf60-ad8c0afde658",
   "metadata": {},
   "source": [
    "# Different group(degree_t, Specilizaation) but same condition(salary)"
   ]
  },
  {
   "cell_type": "code",
   "execution_count": null,
   "id": "d58eaa1e-be6b-42fc-9e78-cf0bd7f867ac",
   "metadata": {},
   "outputs": [],
   "source": [
    "SciTech=dataset[dataset['degree_t']=='Sci&Tech']['salary']\n",
    "MKHR=dataset[dataset['specialisation']=='Mkt&HR']['salary']\n",
    "ttest_ind(SciTech,MKHR)"
   ]
  },
  {
   "cell_type": "markdown",
   "id": "6974608e-16f2-4c0f-ba7a-57de1fb0c2b8",
   "metadata": {},
   "source": [
    "# p<0.05 Reject Null Hypothesis and Accept Altenate Hypothesis\n",
    "# They are no significant diference between degree_t sci&tech branch and  mba MKT&HR specilization of salary"
   ]
  },
  {
   "cell_type": "markdown",
   "id": "a009e5b3-ec99-4140-9e41-b271c76b6184",
   "metadata": {},
   "source": [
    "# 9)Convert the normal distribution to standard normal distribution for salary column"
   ]
  },
  {
   "cell_type": "code",
   "execution_count": null,
   "id": "86c8d076-d040-46fa-bcb3-dfb49587515e",
   "metadata": {},
   "outputs": [],
   "source": [
    "def stdNormDistGraph(dataset):\n",
    "    # convert to standard Normal Disribution\n",
    "    import seaborn as sns\n",
    "    mean = dataset.mean()\n",
    "    std = dataset.std()\n",
    "    values = [n for n in dataset]\n",
    "    z_score=[((i-mean)/std) for i in values]\n",
    "    sns.histplot(z_score,kde=True)\n",
    "    print(\"sum : %3f \" %(sum(z_score)))\n",
    "    print(len(z_score))\n",
    "    print(sum(z_score)/len(z_score))\n",
    "    return z_score"
   ]
  },
  {
   "cell_type": "code",
   "execution_count": null,
   "id": "0a1d7456-33e4-4bc5-b7f9-4a619259a154",
   "metadata": {},
   "outputs": [],
   "source": [
    "zscore=stdNormDistGraph(dataset['salary'])"
   ]
  },
  {
   "cell_type": "code",
   "execution_count": null,
   "id": "c6762f23-3b33-44a2-8182-0612faf1e75d",
   "metadata": {},
   "outputs": [],
   "source": [
    "df=pd.DataFrame(zscore)\n",
    "\n",
    "a=list(df[0])\n",
    "print(\"sum : %3f\" %(sum(a)))\n",
    "m=df.mean()\n",
    "s=df.std()\n",
    "print(\"mean : \", m,\"std : \",s) "
   ]
  },
  {
   "cell_type": "markdown",
   "id": "499cedf5-ad16-4ffa-8b8a-91115fe913b5",
   "metadata": {},
   "source": [
    "# 10)What is the probability Density Function of the salary range from 700000 to 900000?"
   ]
  },
  {
   "cell_type": "code",
   "execution_count": null,
   "id": "24e2efff-1cbd-4758-b11c-a4894e7adc92",
   "metadata": {},
   "outputs": [],
   "source": [
    "import seaborn as sns\n",
    "# Distribution plot use distplot\n",
    "import seaborn as sns\n",
    "sns.distplot(dataset[\"ssc_p\"])"
   ]
  },
  {
   "cell_type": "code",
   "execution_count": null,
   "id": "9060b2e7-a73a-46bd-b8aa-132839146e23",
   "metadata": {},
   "outputs": [],
   "source": [
    "def get_pdf_probabiliy(dataset,startrange, endrange):\n",
    "    from matplotlib import pyplot\n",
    "    from scipy.stats import norm\n",
    "    import seaborn as sns\n",
    "    # sns.distplot(dataset, kde = True, color=\"Yellow\",kde_kws={\"color\": \"blue\"})\n",
    "    ax=sns.histplot(dataset, kde=True,stat=\"density\",color=\"Green\", kde_kws=dict(cut=3))\n",
    "    \n",
    "    # kde- KERNEL DENSITY\n",
    "    # kde_kws - density color\n",
    "    # histogram color  is yellow\n",
    "\n",
    "    pyplot.axvline(startrange,color=\"Red\")  # v mean vertical line\n",
    "    pyplot.axvline(endrange,color=\"Red\")\n",
    "    # Generate Sample\n",
    "    sample = dataset\n",
    "    # Calculate parameters\n",
    "    sample_mean=sample.mean()\n",
    "    sample_std=sample.std()\n",
    "    print(\"Mean=%.3f,Standard Deviation = %.3f\" % (sample_mean,sample_std))\n",
    "    # DEfine the Disribution\n",
    "    dist= norm(sample_mean,sample_std)  # learn normal distribution pattern\n",
    "    # print(\"dist : \",dist)\n",
    "    \n",
    "    # smple probabilities or a range of outcomes\n",
    "    values =[value for value in range(startrange,endrange)] # stoe value in list\n",
    "    probabilties = [dist.pdf(value) for value in values] # each value give to dist paten and sum the values pdf -probabiliy densiy funcion\n",
    "    print(\"Print each Dist vale : \", probabilties)\n",
    "    prob=sum(probabilties)\n",
    "    print(\"The area between range({},{}):{}\".format(startrange,endrange,prob))\n",
    "    return prob"
   ]
  },
  {
   "cell_type": "code",
   "execution_count": null,
   "id": "3df0b3cb-fd6b-4d43-98c0-1bfbd3fbc6e3",
   "metadata": {},
   "outputs": [],
   "source": [
    "get_pdf_probabiliy(dataset[\"salary\"],700000,900000)"
   ]
  },
  {
   "cell_type": "markdown",
   "id": "1eec2230-6bd9-4fad-8c10-00bb941c6eeb",
   "metadata": {},
   "source": [
    "# 11)Test the similarity between the degree_t(Sci&Tech)with respect to etest_p and mba_p at significance level of 5%.(Make decision using Hypothesis Testing)"
   ]
  },
  {
   "cell_type": "markdown",
   "id": "c80e181b-f9bd-430d-b020-16caf9780991",
   "metadata": {},
   "source": [
    "# Dependent Paired T-Test\n",
    "# Group(same -categorical data) but different condition(etest_p,mba_p Numerical data)¶"
   ]
  },
  {
   "cell_type": "code",
   "execution_count": null,
   "id": "771fa78d-0e68-4ee4-9f49-546ba9a241db",
   "metadata": {},
   "outputs": [],
   "source": [
    "sci1=dataset[dataset['degree_t']=='Sci&Tech']['etest_p']\n",
    "sci2=dataset[dataset['degree_t']=='Sci&Tech']['mba_p']\n",
    "ttest_ind(sci1,sci2)"
   ]
  },
  {
   "cell_type": "markdown",
   "id": "4be4f27a-3db0-47d0-ac0b-08b66da176e4",
   "metadata": {},
   "source": [
    "# p >0.05 so accept Null hypothesis\n",
    "# INTEREPRETE : THERE ARE NO SIGNIFICANT DIFFERENT BETWEEN etest_p  AND MBA_p MARKE OF SCI&Tech branch"
   ]
  },
  {
   "cell_type": "markdown",
   "id": "3cb8876b-bc6a-49e3-b689-36a9128bd5b7",
   "metadata": {},
   "source": [
    "# 12)Which parameter is highly correlated with salary?"
   ]
  },
  {
   "cell_type": "code",
   "execution_count": null,
   "id": "a30f34b5-37bd-4fc6-9a6f-3dcf0924b9ef",
   "metadata": {},
   "outputs": [],
   "source": [
    "dataset[quan].corr()"
   ]
  },
  {
   "cell_type": "code",
   "execution_count": null,
   "id": "46c97fe6-b877-42be-9722-d077477612c3",
   "metadata": {},
   "outputs": [],
   "source": [
    "cm=dataset[quan].corr()"
   ]
  },
  {
   "cell_type": "code",
   "execution_count": null,
   "id": "2562b5a7-2481-4289-a122-a7f6a011e3f2",
   "metadata": {},
   "outputs": [],
   "source": [
    "salary_correlations = cm['salary'].sort_values(ascending=False)\n",
    "print(salary_correlations)"
   ]
  },
  {
   "cell_type": "code",
   "execution_count": null,
   "id": "887e4e18-8c20-413f-a6f8-f1d594f85192",
   "metadata": {},
   "outputs": [],
   "source": []
  }
 ],
 "metadata": {
  "kernelspec": {
   "display_name": "Python 3 (ipykernel)",
   "language": "python",
   "name": "python3"
  },
  "language_info": {
   "codemirror_mode": {
    "name": "ipython",
    "version": 3
   },
   "file_extension": ".py",
   "mimetype": "text/x-python",
   "name": "python",
   "nbconvert_exporter": "python",
   "pygments_lexer": "ipython3",
   "version": "3.12.7"
  }
 },
 "nbformat": 4,
 "nbformat_minor": 5
}
